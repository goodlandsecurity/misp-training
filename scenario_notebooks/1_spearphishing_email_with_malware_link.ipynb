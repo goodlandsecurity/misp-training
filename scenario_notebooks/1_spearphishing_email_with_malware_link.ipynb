{
 "cells": [
  {
   "cell_type": "markdown",
   "id": "a669454f-f1e0-4aaf-a63e-a1406963d300",
   "metadata": {},
   "source": [
    "# Scenario 1: Spearphishing Email with a Malware Link\n",
    "### Description:\n",
    "A spearphishing email was sent to a company employee, pretending to be from their IT department. The email urges the recipient to click on a link to download a \"security update,\" which actually downloads a malware payload.\n",
    "\n",
    "## Attributes to Include:\n",
    "- Email source\n",
    "- Email subject\n",
    "- Sender IP address\n",
    "- URL leading to the malware download\n",
    "- Malware file hashes and filename\n",
    "- Sandbox analysis links\n",
    "\n",
    "### Indicators:\n",
    "| Description             | Category          | Type          | Value                                                            |\n",
    "|-------------------------|-------------------|---------------|------------------------------------------------------------------|\n",
    "| Email sender            | Payload delivery  | email-src     | it-support@fakesecurity.com                                      |\n",
    "| Email subject           | Payload delivery  | email-subject | Urgent: Security Update Required                                 |\n",
    "| Sender IP address       | Payload delivery  | ip-src        | 203.0.113.50                                                     |\n",
    "| Malicious URL           | Payload delivery  | url           | http://fake-update.com/security-update.exe                       |\n",
    "| File Name               | Network activity  | filename      | security-update.exe                                              |\n",
    "| Malware Hash (MD5)      | Network activity  | md5           | a1b2c3d4e5f67890123456789abcdef0                                 |\n",
    "| Malware Hash (SHA256)   | Network activity  | sha256        | f65ac3e2b9e6f9dbb0978d2389e324f85d65f3e11c8b6e98efcfd7685f123abc |\n",
    "| Online sandbox analysis | External analysis | link          | https://my.sandbox.com/analysis/suspicious-url-0001              |\n",
    "\n",
    "## Galaxy Clusters to Include:\n",
    "### Attack Pattern\n",
    " - Phishing (Spearphishing Link):\n",
    "   - Technique ID: T1566.002\n",
    "   - Description: Phishing email contains a link to download malware."
   ]
  },
  {
   "cell_type": "markdown",
   "id": "33d3d667-3370-4dc2-bd22-04a1a3b28f68",
   "metadata": {},
   "source": [
    "# Initialize environment\n",
    "This section initializes the playbook environment and loads the required Python libraries. The credentials for MISP (authkey) is loaded from the file `keys.py` in the directory **vault**. A PyMISP object is created to interact with MISP and the active MISP server is displayed. By printing out the server name you know that it's possible to connect to MISP. In case of a problem, PyMISP will indicate the error with `PyMISPError: Unable to connect to MISP`.\n",
    "\n",
    "The contents of the `keys.py` file should contain at least:\n",
    "```\n",
    "misp_url = \"<MISP URL>\"             # The URL to our MISP server\n",
    "misp_key = \"<MISP Authkey>\"         # The MISP authkey\n",
    "misp_verifycert = <True or False>   # Indicate if PyMISP should attempt to verify the certificate or ignore errors"
   ]
  },
  {
   "cell_type": "code",
   "execution_count": null,
   "id": "5446be07-660e-4434-b9cf-2dbcb758b77e",
   "metadata": {},
   "outputs": [],
   "source": [
    "from vault.keys import *\n",
    "\n",
    "from pymisp import PyMISP, MISPEvent, MISPObject\n",
    "\n",
    "\n",
    "if not misp_verifycert:\n",
    "    import urllib3\n",
    "    urllib3.disable_warnings(urllib3.exceptions.InsecureRequestWarning)\n",
    "print(\"The \\033[92mPython libraries\\033[90m are loaded and the \\033[92mcredentials\\033[90m are read from the keys file.\")\n",
    "\n",
    "# Create the PyMISP object\n",
    "misp = PyMISP(misp_url, misp_key, misp_verifycert)\n",
    "print(\"I will use the MISP server \\033[92m{}\\033[90m for this playbook.\\n\\n\".format(misp_url))\n"
   ]
  },
  {
   "cell_type": "markdown",
   "id": "784e9022-3da1-4a18-9d81-d86b45efd29f",
   "metadata": {},
   "source": [
    "# Initialize MISP Event\n",
    "This cell will initialize the MISP Event and attach the Event metadata."
   ]
  },
  {
   "cell_type": "code",
   "execution_count": null,
   "id": "f36a1b68-575c-437e-b3e5-84f5e4c2a548",
   "metadata": {},
   "outputs": [],
   "source": [
    "event = MISPEvent()\n",
    "event.info = \"<Title of MISP Event>\"\n",
    "\n",
    "## Threat Level\n",
    "# 1 - High means sophisticated APT malware or 0day attack\n",
    "# 2 - Medium means APT malware\n",
    "# 3 - Low means mass malware\n",
    "# 4 - Undefine\n",
    "\n",
    "event.threat_level_id = <ID>\n",
    "\n",
    "\n",
    "## Analysis\n",
    "# 0 - Initial means Event has just been created and is in an initial state\n",
    "# 1 - Ongoing means the analysis is still ongoing\n",
    "# 2 - Completed means the Event creator considers the analysis complete\n",
    "\n",
    "event.analysis = <ID>\n",
    "\n",
    "\n",
    "## Distribution \n",
    "# 0 - Your organization means only members of your organization on this server will be able to see this Event\n",
    "# 1 - This community only means organizations that are a part of this community server will be able to see this Event\n",
    "# 2 - Connected communities means organizations that are a part of this community server or a part of a connected (synced) community MISP server will be able to see the event\n",
    "\n",
    "event.distribution = <ID>"
   ]
  },
  {
   "cell_type": "markdown",
   "id": "e275b2d3-27bb-4da6-84bc-c4e808aa7b29",
   "metadata": {},
   "source": [
    "# Initialize Indicator Variables\n",
    "This cell will initialize the indicator variables we will use to add Attributes to the Event."
   ]
  },
  {
   "cell_type": "code",
   "execution_count": null,
   "id": "8f50bd54-615d-4cd6-bcbc-1ff47826a367",
   "metadata": {},
   "outputs": [],
   "source": [
    "# Copy the indicators from the table above into the appropriate indicator variables\n",
    "\n",
    "email_sender = \"\"\n",
    "email_subject = \"\"\n",
    "sender_ip = \"\"\n",
    "malicious_url = \"\"\n",
    "sandbox_link = \"\"\n",
    "malware_filename = \"\"\n",
    "malware_md5 = \"\"\n",
    "malware_sha256 = \"\""
   ]
  },
  {
   "cell_type": "markdown",
   "id": "e3c5ea0c-9a2e-413b-8283-844e3948d92c",
   "metadata": {},
   "source": [
    "# Add Attributes to the Event\n",
    "This cell will add attributes to the Event."
   ]
  },
  {
   "cell_type": "code",
   "execution_count": null,
   "id": "bf99ba5e-bec4-4aae-b782-e54610a22349",
   "metadata": {},
   "outputs": [],
   "source": [
    "event.add_attribute(type=\"email-src\", value=email_sender, category=\"Payload delivery\")\n",
    "event.add_attribute(type=\"email-subject\", value=email_subject, category=\"Payload delivery\")\n",
    "event.add_attribute(type=\"ip-src\", value=sender_ip, category=\"Payload delivery\")\n",
    "event.add_attribute(type=\"url\", value=malicious_url, category=\"Payload delivery\", comment=\"embedded URL\")\n",
    "event.add_attribute(type=\"link\", value=sandbox_link, category=\"External analysis\")\n",
    "\n",
    "# For added context, you can add a comment attribute that provides a brief description of the intel share\n",
    "description = \"\"\"\n",
    "A spearphishing email was sent to a company employee, pretending to be from their IT department. \n",
    "The email urges the recipient to click on a link to download a \"security update,\" \n",
    "which actually downloads a malware payload.\n",
    "\"\"\"\n",
    "event.add_attribute(type=\"comment\", value=description)"
   ]
  },
  {
   "cell_type": "markdown",
   "id": "5f8132e9-60f1-41e8-93da-3781d96d6950",
   "metadata": {},
   "source": [
    "# Initialize and add Attributes to MISP Object\n",
    "This cell will initialize and add attributes to a MISP Object."
   ]
  },
  {
   "cell_type": "code",
   "execution_count": null,
   "id": "2cbf19a4-4b01-4159-b56c-550af276c64e",
   "metadata": {},
   "outputs": [],
   "source": [
    "file_object = MISPObject(name=\"file\")\n",
    "file_object.comment = \"malicious file downloaded from phishing link\"\n",
    "\n",
    "file_object.add_attribute(object_relation=\"filename\", simple_value=malware_filename)\n",
    "file_object.add_attribute(object_relation=\"md5\", simple_value=malware_md5)\n",
    "file_object.add_attribute(object_relation=\"sha256\", simple_value=malware_sha256)\n",
    "\n",
    "# Add Object to Event\n",
    "event.add_object(file_object)"
   ]
  },
  {
   "cell_type": "markdown",
   "id": "6027fb3d-e145-4ecd-8376-d13b70f45afe",
   "metadata": {},
   "source": [
    "# Contextualize the Event with Galaxy Clusters\n",
    "This cell will add context to the Event by utilizing galaxy cluster tags."
   ]
  },
  {
   "cell_type": "code",
   "execution_count": null,
   "id": "372371ce-beba-49f7-86ae-78554b96e943",
   "metadata": {},
   "outputs": [],
   "source": [
    "# Attack Pattern\n",
    "event.add_tag('misp-galaxy:mitre-attack-pattern=\"Spearphishing Link - T1566.002\"')"
   ]
  },
  {
   "cell_type": "markdown",
   "id": "81a2f24a-5d86-4399-a813-87de80f4d857",
   "metadata": {},
   "source": [
    "# Publish and Share the Event\n",
    "This cell will publish and share the event to the MISP server."
   ]
  },
  {
   "cell_type": "code",
   "execution_count": null,
   "id": "54078e87-bc3c-41d9-ac23-1d4ce486dc0f",
   "metadata": {},
   "outputs": [],
   "source": [
    "event.publish()\n",
    "\n",
    "misp.add_event(event)"
   ]
  },
  {
   "cell_type": "code",
   "execution_count": null,
   "id": "e8276b72-4970-48ef-b85a-b69f7a3e10a6",
   "metadata": {},
   "outputs": [],
   "source": []
  }
 ],
 "metadata": {
  "kernelspec": {
   "display_name": "Python 3 (ipykernel)",
   "language": "python",
   "name": "python3"
  },
  "language_info": {
   "codemirror_mode": {
    "name": "ipython",
    "version": 3
   },
   "file_extension": ".py",
   "mimetype": "text/x-python",
   "name": "python",
   "nbconvert_exporter": "python",
   "pygments_lexer": "ipython3",
   "version": "3.10.7"
  }
 },
 "nbformat": 4,
 "nbformat_minor": 5
}
