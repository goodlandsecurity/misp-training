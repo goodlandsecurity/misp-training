{
 "cells": [
  {
   "cell_type": "markdown",
   "id": "a669454f-f1e0-4aaf-a63e-a1406963d300",
   "metadata": {},
   "source": [
    "# Scenario 2: Infostealer Malware Analysis\n",
    "### Description:\n",
    "An endpoint within the organization was compromised by RedLine Stealer, a known information stealer malware. This malware collects a wide range of data, including stored passwords, browser cookies, autofill data, and cryptocurrency wallets. The stolen information is exfiltrated to a remote Command-and-Control (C2) server.\n",
    "\n",
    "## Attributes to Include:\n",
    "- Malware name and file hashes\n",
    "- C2 server domain and IP\n",
    "- File behavior description\n",
    "- Exfiltration method\n",
    "- Sandbox analysis links\n",
    "\n",
    "### Indicators:\n",
    "| Description             | Category           | Type     | Value                                                            |\n",
    "|-------------------------|--------------------|----------|------------------------------------------------------------------|\n",
    "| Malware File Name       | Network activity   | filename | Quote 20240533-REV2.exe                                          |\n",
    "| Malware Hash (MD5)      | Network activity   | md5      | e443efc004a52287249fa640396233cf                                 |\n",
    "| Malware Hash (SHA1)     | Network activity   | sha1     | 54752a3aab296573c973f301f91c6e76c872a4da                         |\n",
    "| Malware Hash (SHA256)   | Network activity   | sha256   | 0b2a3cff3a36ae0a77ea81fd75e04b383fbddc732da110042171efdff1ebeefe |\n",
    "| C2 Server Domain        | Network activity   | domain   | malicious-c2server.com                                           |\n",
    "| C2 Server IP Address    | Network activity   | ip-dst   | 198.51.100.23                                                    |\n",
    "| Online sandbox analysis | External analysis  | link     | https://my.sandbox.com/analysis/suspicious-file-0001             |\n",
    "\n",
    "#### Malware Family: \n",
    "- RedlineStealer\n",
    "\n",
    "#### Malware Behavior:\n",
    "- RedLine Stealer is capable of harvesting stored credentials from browsers (including passwords, cookies, and autofill data), system information, and cryptocurrency wallet details.\n",
    "- The malware scans the infected system for any stored credentials in browsers such as Google Chrome, Firefox, and Microsoft Edge.\n",
    "- RedLine Stealer also collects additional data like user profiles, system information, and application usage details.\n",
    "\n",
    "#### Exfiltration Method:\n",
    "Once the data is harvested, RedLine Stealer uses HTTP POST requests to transmit the collected information to its designated C2 server (malicious-c2server.com at IP address 198.51.100.23).\n",
    "\n",
    "## Galaxy Clusters to Include:\n",
    "### 1. Attack Pattern:\n",
    " - Credentials from Password Stores (Credentials from Web Browsers):\n",
    "   - Technique ID: T1555.003\n",
    "   - Description: RedLine Stealer targets credential stores in web browsers to extract passwords, cookies, and autofill data.\n",
    " - Input Capture (Keylogging): \n",
    "   - Technique ID: T1056.001\n",
    "   - Description: Some variants of information stealers also include keylogging capabilities to capture credentials as they are typed.\n",
    " - Unsecured Credentials:\n",
    "   - Technique ID: T1552\n",
    "   - Description: Harvesting credentials stored in insecure locations on the system.\n",
    "- Exfiltration Over C2 Channel:\n",
    "  - Technique ID: T1041\n",
    "  - Description: RedLine Stealer exfiltrates collected data via HTTP POST requests to a remote C2 server.\n",
    " - Automated Exfiltration:\n",
    "   - Technique ID: T1020\n",
    "   - Description: The malware automates the process of collecting and exfiltrating data without manual intervention.\n",
    "\n",
    "### 2. Malpedia:\n",
    " - RedLine Stealer\n",
    "   - Description: Attribution to the specific information stealer.\n"
   ]
  },
  {
   "cell_type": "markdown",
   "id": "33d3d667-3370-4dc2-bd22-04a1a3b28f68",
   "metadata": {},
   "source": [
    "# Initialize environment\n",
    "This section initializes the playbook environment and loads the required Python libraries. The credentials for MISP (authkey) is loaded from the file `keys.py` in the directory **vault**. A PyMISP object is created to interact with MISP and the active MISP server is displayed. By printing out the server name you know that it's possible to connect to MISP. In case of a problem, PyMISP will indicate the error with `PyMISPError: Unable to connect to MISP`.\n",
    "\n",
    "The contents of the `keys.py` file should contain at least:\n",
    "```\n",
    "misp_url = \"<MISP URL>\"             # The URL to our MISP server\n",
    "misp_key = \"<MISP Authkey>\"         # The MISP authkey\n",
    "misp_verifycert = <True or False>   # Indicate if PyMISP should attempt to verify the certificate or ignore errors"
   ]
  },
  {
   "cell_type": "code",
   "execution_count": null,
   "id": "5446be07-660e-4434-b9cf-2dbcb758b77e",
   "metadata": {},
   "outputs": [],
   "source": [
    "from vault.keys import *\n",
    "\n",
    "from pymisp import PyMISP, MISPEvent, MISPObject\n",
    "\n",
    "\n",
    "if not misp_verifycert:\n",
    "    import urllib3\n",
    "    urllib3.disable_warnings(urllib3.exceptions.InsecureRequestWarning)\n",
    "print(\"The \\033[92mPython libraries\\033[90m are loaded and the \\033[92mcredentials\\033[90m are read from the keys file.\")\n",
    "\n",
    "# Create the PyMISP object\n",
    "misp = PyMISP(misp_url, misp_key, misp_verifycert)\n",
    "print(\"I will use the MISP server \\033[92m{}\\033[90m for this playbook.\\n\\n\".format(misp_url))\n"
   ]
  },
  {
   "cell_type": "markdown",
   "id": "784e9022-3da1-4a18-9d81-d86b45efd29f",
   "metadata": {},
   "source": [
    "# Initialize MISP Event\n",
    "This cell will initialize the MISP Event and attach the Event metadata."
   ]
  },
  {
   "cell_type": "code",
   "execution_count": null,
   "id": "f36a1b68-575c-437e-b3e5-84f5e4c2a548",
   "metadata": {},
   "outputs": [],
   "source": [
    "event = MISPEvent()\n",
    "event.info = <Title of MISP Event>\n",
    "\n",
    "## Threat Level\n",
    "# 1 - High means sophisticated APT malware or 0day attack\n",
    "# 2 - Medium means APT malware\n",
    "# 3 - Low means mass malware\n",
    "# 4 - Undefine\n",
    "\n",
    "event.threat_level_id = <ID>\n",
    "\n",
    "\n",
    "## Analysis\n",
    "# 0 - Initial means Event has just been created and is in an initial state\n",
    "# 1 - Ongoing means the analysis is still ongoing\n",
    "# 2 - Completed means the Event creator considers the analysis complete\n",
    "\n",
    "event.analysis = <ID>\n",
    "\n",
    "\n",
    "## Distribution \n",
    "# 0 - Your organization means only members of your organization on this server will be able to see this Event\n",
    "# 1 - This community only means organizations that are a part of this community server will be able to see this Event\n",
    "# 2 - Connected communities means organizations that are a part of this community server or a part of a connected (synced) community MISP server will be able to see the event\n",
    "\n",
    "event.distribution = <ID>"
   ]
  },
  {
   "cell_type": "markdown",
   "id": "e275b2d3-27bb-4da6-84bc-c4e808aa7b29",
   "metadata": {},
   "source": [
    "# Initialize Indicator Variables\n",
    "This cell will initialize the indicator variables we will use to add Attributes to the Event."
   ]
  },
  {
   "cell_type": "code",
   "execution_count": null,
   "id": "8f50bd54-615d-4cd6-bcbc-1ff47826a367",
   "metadata": {},
   "outputs": [],
   "source": [
    "# Copy the indicators from the table above into the appropriate indicator variables\n",
    "\n",
    "malware_filename = \"\"\n",
    "malware_md5 = \"\"\n",
    "malware_sha1 = \"\"\n",
    "malware_sha256 = \"\"\n",
    "c2_domain = \"\"\n",
    "c2_ip = \"\"\n",
    "sandbox_link = \"\""
   ]
  },
  {
   "cell_type": "markdown",
   "id": "e3c5ea0c-9a2e-413b-8283-844e3948d92c",
   "metadata": {},
   "source": [
    "# Add Attributes to the Event\n",
    "This cell will add attributes to the Event."
   ]
  },
  {
   "cell_type": "code",
   "execution_count": null,
   "id": "bf99ba5e-bec4-4aae-b782-e54610a22349",
   "metadata": {},
   "outputs": [],
   "source": [
    "event.add_attribute(type=\"link\", value=sandbox_link, category=\"External analysis\")\n",
    "\n",
    "# For added context, you can add a comment attribute that provides a brief description of the intel share\n",
    "description = \"\"\"\n",
    "An endpoint within the organization was compromised by RedLine Stealer, \n",
    "a known information stealer malware. This malware collects a wide range \n",
    "of data, including stored passwords, browser cookies, autofill data, and \n",
    "cryptocurrency wallets. The stolen information is exfiltrated to a remote \n",
    "Command-and-Control (C2) server.\n",
    "\"\"\"\n",
    "event.add_attribute(type=\"comment\", value=description)"
   ]
  },
  {
   "cell_type": "markdown",
   "id": "5f8132e9-60f1-41e8-93da-3781d96d6950",
   "metadata": {},
   "source": [
    "# Initialize and add Attributes to MISP Object\n",
    "This cell will initialize and add attributes to a MISP Object."
   ]
  },
  {
   "cell_type": "code",
   "execution_count": null,
   "id": "2cbf19a4-4b01-4159-b56c-550af276c64e",
   "metadata": {},
   "outputs": [],
   "source": [
    "malware_object = MISPObject(name=\"file\")\n",
    "malware_object.comment = \"Redline Stealer sample\"\n",
    "\n",
    "malware_object.add_attribute(object_relation=\"filename\", simple_value=malware_filename)\n",
    "malware_object.add_attribute(object_relation=\"md5\", simple_value=malware_md5)\n",
    "malware_object.add_attribute(object_relation=\"sha1\", simple_value=malware_sha1)\n",
    "malware_object.add_attribute(object_relation=\"sha256\", simple_value=malware_sha256)\n",
    "\n",
    "domain_ip_object = MISPObject(name=\"domain-ip\")\n",
    "domain_ip_object.comment = \"Redline Stealer C2\"\n",
    "\n",
    "domain_ip_object.add_attribute(object_relation=\"domain\", simple_value=c2_domain)\n",
    "domain_ip_object.add_attribute(object_relation=\"ip\", simple_value=c2_ip)\n",
    "\n",
    "# Add Objects to Event\n",
    "event.add_object(malware_object)\n",
    "event.add_object(domain_ip_object)"
   ]
  },
  {
   "cell_type": "markdown",
   "id": "6027fb3d-e145-4ecd-8376-d13b70f45afe",
   "metadata": {},
   "source": [
    "# Contextualize the Event with Galaxy Clusters\n",
    "This cell will add context to the Event by utilizing galaxy cluster tags."
   ]
  },
  {
   "cell_type": "code",
   "execution_count": null,
   "id": "372371ce-beba-49f7-86ae-78554b96e943",
   "metadata": {},
   "outputs": [],
   "source": [
    "# Attack Pattern\n",
    "event.add_tag('misp-galaxy:mitre-attack-pattern=\"Credentials from Web Browsers - T1555.003\"')\n",
    "event.add_tag('misp-galaxy:mitre-attack-pattern=\"Keylogging - T1056.001\"')\n",
    "event.add_tag('misp-galaxy:mitre-attack-pattern=\"Unsecured Credentials - T1552\"')\n",
    "event.add_tag('misp-galaxy:mitre-attack-pattern=\"Exfiltration Over C2 Channel - T1041\"')\n",
    "event.add_tag('misp-galaxy:mitre-attack-pattern=\"Automated Exfiltration - T1020\"')\n",
    "\n",
    "# Malpedia\n",
    "event.add_tag('misp-galaxy:malpedia=\"RedLine Stealer\"')"
   ]
  },
  {
   "cell_type": "markdown",
   "id": "81a2f24a-5d86-4399-a813-87de80f4d857",
   "metadata": {},
   "source": [
    "# Publish and Share the Event\n",
    "This cell will publish and share the event to the MISP server."
   ]
  },
  {
   "cell_type": "code",
   "execution_count": null,
   "id": "54078e87-bc3c-41d9-ac23-1d4ce486dc0f",
   "metadata": {},
   "outputs": [],
   "source": [
    "event.publish()\n",
    "\n",
    "misp.add_event(event)"
   ]
  }
 ],
 "metadata": {
  "kernelspec": {
   "display_name": "Python 3 (ipykernel)",
   "language": "python",
   "name": "python3"
  },
  "language_info": {
   "codemirror_mode": {
    "name": "ipython",
    "version": 3
   },
   "file_extension": ".py",
   "mimetype": "text/x-python",
   "name": "python",
   "nbconvert_exporter": "python",
   "pygments_lexer": "ipython3",
   "version": "3.10.7"
  }
 },
 "nbformat": 4,
 "nbformat_minor": 5
}
