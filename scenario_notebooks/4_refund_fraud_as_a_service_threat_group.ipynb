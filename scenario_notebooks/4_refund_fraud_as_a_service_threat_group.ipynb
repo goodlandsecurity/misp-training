{
 "cells": [
  {
   "cell_type": "markdown",
   "id": "a669454f-f1e0-4aaf-a63e-a1406963d300",
   "metadata": {},
   "source": [
    "# Scenario 4:  Refund Fraud-as-a-Service Threat Actor Group\n",
    "### Description:\n",
    "The RedRefund Collective is a notorious Refund Fraud-as-a-Service group operating under a communist-themed banner. They advertise their fraudulent refund services through various platforms, including Telegram channels and specialized websites. Their services focus on defrauding retail and e-commerce companies by issuing refunds for expensive items and selling access to compromised customer accounts. They use social media platforms like Instagram, Snapchat, and TikTok for promotion, and their operations are consolidated on a Linktree page. The RedRefund Collective leverages a structured network of channels to interact with clients, manage operations, and verify successful fraud cases.\n",
    "\n",
    "## Attributes to Include:\n",
    "- Domains for fraudulent service websites\n",
    "- Telegram channels for main operations, admin communications, and vouching\n",
    "- Alias of a key figure in the operation\n",
    "- Social media handles for Instagram, Snapchat, TikTok\n",
    "- Linktree page linking all resources together\n",
    "\n",
    "### Indicators:\n",
    "| Description                   | Category         | Type      | Value                            |\n",
    "|-------------------------------|------------------|-----------|----------------------------------|\n",
    "| Main website                  | Network activity | domain    | redrefundcollective.com          | \n",
    "| Backup website                | Network activity | domain    | communistrefunds.net             |\n",
    "| Telegram Channel (Main)       | Network activity | url       | https://t.me/redrefundcollective |\n",
    "| Telegram Channel (Admin)      | Network activity | url       | https://t.me/redrefund_admins    |  \n",
    "| Telegram Channel (Vouch Room) | Network activity | url       | https://t.me/redrefund_vouches   |\n",
    "| Linketree URL                 | Network activity | url       | https://linktr.ee/redrefunds     |\n",
    "| Contact Information (Name)    | Person           | full-name | Ivan Petrov                      |\n",
    "| Instagram Handle              | Person           | text      | @redrefunds                      |\n",
    "| Snapchat Handle               | Person           | text      | @refunds_commissar               |\n",
    "| TikTok Handle                 | Person           | text      | @refundrevolution                |\n",
    "\n",
    "\n",
    "## Galaxy Clusters to Include:\n",
    "### RH-ISAC Fraud\n",
    " - Return Fraud:\n",
    "   - Description: Return fraud happens when shoppers try to deceive retailers throughout the product return process to illicitly obtain a refund"
   ]
  },
  {
   "cell_type": "markdown",
   "id": "33d3d667-3370-4dc2-bd22-04a1a3b28f68",
   "metadata": {},
   "source": [
    "# Initialize environment\n",
    "This section initializes the playbook environment and loads the required Python libraries. The credentials for MISP (authkey) is loaded from the file `keys.py` in the directory **vault**. A PyMISP object is created to interact with MISP and the active MISP server is displayed. By printing out the server name you know that it's possible to connect to MISP. In case of a problem, PyMISP will indicate the error with `PyMISPError: Unable to connect to MISP`.\n",
    "\n",
    "The contents of the `keys.py` file should contain at least:\n",
    "```\n",
    "misp_url = \"<MISP URL>\"             # The URL to our MISP server\n",
    "misp_key = \"<MISP Authkey>\"         # The MISP authkey\n",
    "misp_verifycert = <True or False>   # Indicate if PyMISP should attempt to verify the certificate or ignore errors"
   ]
  },
  {
   "cell_type": "code",
   "execution_count": null,
   "id": "5446be07-660e-4434-b9cf-2dbcb758b77e",
   "metadata": {},
   "outputs": [],
   "source": [
    "from vault.keys import *\n",
    "\n",
    "from pymisp import PyMISP, MISPEvent, MISPObject\n",
    "\n",
    "\n",
    "if not misp_verifycert:\n",
    "    import urllib3\n",
    "    urllib3.disable_warnings(urllib3.exceptions.InsecureRequestWarning)\n",
    "print(\"The \\033[92mPython libraries\\033[90m are loaded and the \\033[92mcredentials\\033[90m are read from the keys file.\")\n",
    "\n",
    "# Create the PyMISP object\n",
    "misp = PyMISP(misp_url, misp_key, misp_verifycert)\n",
    "print(\"I will use the MISP server \\033[92m{}\\033[90m for this playbook.\\n\\n\".format(misp_url))\n"
   ]
  },
  {
   "cell_type": "markdown",
   "id": "784e9022-3da1-4a18-9d81-d86b45efd29f",
   "metadata": {},
   "source": [
    "# Initialize MISP Event\n",
    "This cell will initialize the MISP Event and attach the Event metadata."
   ]
  },
  {
   "cell_type": "code",
   "execution_count": null,
   "id": "f36a1b68-575c-437e-b3e5-84f5e4c2a548",
   "metadata": {},
   "outputs": [],
   "source": [
    "event = MISPEvent()\n",
    "event.info = <Title of MISP Event>\n",
    "\n",
    "## Threat Level\n",
    "# 1 - High means sophisticated APT malware or 0day attack\n",
    "# 2 - Medium means APT malware\n",
    "# 3 - Low means mass malware\n",
    "# 4 - Undefine\n",
    "\n",
    "event.threat_level_id = <ID>\n",
    "\n",
    "\n",
    "## Analysis\n",
    "# 0 - Initial means Event has just been created and is in an initial state\n",
    "# 1 - Ongoing means the analysis is still ongoing\n",
    "# 2 - Completed means the Event creator considers the analysis complete\n",
    "\n",
    "event.analysis = <ID>\n",
    "\n",
    "\n",
    "## Distribution \n",
    "# 0 - Your organization means only members of your organization on this server will be able to see this Event\n",
    "# 1 - This community only means organizations that are a part of this community server will be able to see this Event\n",
    "# 2 - Connected communities means organizations that are a part of this community server or a part of a connected (synced) community MISP server will be able to see the event\n",
    "\n",
    "event.distribution = <ID>"
   ]
  },
  {
   "cell_type": "markdown",
   "id": "e275b2d3-27bb-4da6-84bc-c4e808aa7b29",
   "metadata": {},
   "source": [
    "# Initialize Indicator Variables\n",
    "This cell will initialize the indicator variables we will use to add Attributes to the Event."
   ]
  },
  {
   "cell_type": "code",
   "execution_count": null,
   "id": "8f50bd54-615d-4cd6-bcbc-1ff47826a367",
   "metadata": {},
   "outputs": [],
   "source": [
    "# Copy the indicators from the table above into the appropriate indicator variables\n",
    "\n",
    "main_website = \"\"\n",
    "backup_website = \"\"\n",
    "telegram_main = \"\"\n",
    "telegram_admin = \"\"\n",
    "telegram_vouch = \"\"\n",
    "linktree = \"\"\n",
    "contact_info = \"\"\n",
    "instagram_handle = \"\"\n",
    "snapchat_handle = \"\"\n",
    "tiktok_handle = \"\""
   ]
  },
  {
   "cell_type": "markdown",
   "id": "e3c5ea0c-9a2e-413b-8283-844e3948d92c",
   "metadata": {},
   "source": [
    "# Add Attributes to the Event\n",
    "This cell will add attributes to the Event."
   ]
  },
  {
   "cell_type": "code",
   "execution_count": null,
   "id": "bf99ba5e-bec4-4aae-b782-e54610a22349",
   "metadata": {},
   "outputs": [],
   "source": [
    "event.add_attribute(type=\"url\", value=main_website, category=\"Network activity\", comment=\"main website\")\n",
    "event.add_attribute(type=\"url\", value=backup_website, category=\"Network activity\", comment=\"backup website\")\n",
    "event.add_attribute(type=\"url\", value=telegram_main, category=\"Network activity\", comment=\"Main Telegram channel\")\n",
    "event.add_attribute(type=\"url\", value=telegram_admin, category=\"Network activity\", comment=\"Admin Telegram channel\")\n",
    "event.add_attribute(type=\"url\", value=telegram_vouch, category=\"Network activity\", comment=\"Vouch Room Telegram channel\")\n",
    "event.add_attribute(type=\"url\", value=linktree, category=\"Network activity\", comment=\"Threat Actor Linktree\")\n",
    "event.add_attribute(type=\"full-name\", value=contact_info, category=\"Person\")\n",
    "event.add_attribute(type=\"text\", value=instagram_handle, category=\"Person\", comment=\"instagram\")\n",
    "event.add_attribute(type=\"text\", value=snapchat_handle, category=\"Person\", comment=\"snapchat\")\n",
    "event.add_attribute(type=\"text\", value=tiktok_handle, category=\"Person\", comment=\"tiktok\")\n",
    "\n",
    "# For added context, you can add a comment attribute that provides a brief description of the intel share\n",
    "description = \"\"\"\n",
    "The RedRefund Collective is a notorious Refund Fraud-as-a-Service \n",
    "group operating under a communist-themed banner. They advertise \n",
    "their fraudulent refund services through various platforms, \n",
    "including Telegram channels and specialized websites. Their \n",
    "services focus on defrauding retail and e-commerce companies by \n",
    "issuing refunds for expensive items and selling access to \n",
    "compromised customer accounts. They use social media platforms \n",
    "like Instagram, Snapchat, and TikTok for promotion, and their \n",
    "operations are consolidated on a Linktree page. The RedRefund \n",
    "Collective leverages a structured network of channels to interact \n",
    "with clients, manage operations, and verify successful fraud cases.\n",
    "\"\"\"\n",
    "event.add_attribute(type=\"comment\", value=description)"
   ]
  },
  {
   "cell_type": "markdown",
   "id": "6027fb3d-e145-4ecd-8376-d13b70f45afe",
   "metadata": {},
   "source": [
    "# Contextualize the Event with Galaxy Clusters\n",
    "This cell will add context to the Event by utilizing galaxy cluster tags."
   ]
  },
  {
   "cell_type": "code",
   "execution_count": null,
   "id": "372371ce-beba-49f7-86ae-78554b96e943",
   "metadata": {},
   "outputs": [],
   "source": [
    "# RH-ISAC Fraud\n",
    "event.add_tag('misp-galaxy:rhisac-fraud=\"Return Fraud\"')"
   ]
  },
  {
   "cell_type": "markdown",
   "id": "81a2f24a-5d86-4399-a813-87de80f4d857",
   "metadata": {},
   "source": [
    "# Publish and Share the Event\n",
    "This cell will publish and share the event to the MISP server."
   ]
  },
  {
   "cell_type": "code",
   "execution_count": null,
   "id": "54078e87-bc3c-41d9-ac23-1d4ce486dc0f",
   "metadata": {},
   "outputs": [],
   "source": [
    "event.publish()\n",
    "\n",
    "misp.add_event(event)"
   ]
  }
 ],
 "metadata": {
  "kernelspec": {
   "display_name": "Python 3 (ipykernel)",
   "language": "python",
   "name": "python3"
  },
  "language_info": {
   "codemirror_mode": {
    "name": "ipython",
    "version": 3
   },
   "file_extension": ".py",
   "mimetype": "text/x-python",
   "name": "python",
   "nbconvert_exporter": "python",
   "pygments_lexer": "ipython3",
   "version": "3.10.7"
  }
 },
 "nbformat": 4,
 "nbformat_minor": 5
}
