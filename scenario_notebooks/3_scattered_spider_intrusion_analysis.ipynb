{
 "cells": [
  {
   "cell_type": "markdown",
   "id": "a669454f-f1e0-4aaf-a63e-a1406963d300",
   "metadata": {},
   "source": [
    "# Scenario 3: SCATTERED SPIDER Intrusion Analysis\n",
    "### Description:\n",
    "An organization becomes the victim of a targeted attack by the SCATTERED SPIDER threat group. The incident begins with social engineering tactics used to compromise the IT help desk and obtain credentials for initial access. Over time, the attackers escalate their privileges, establish persistence, and move laterally within the network. Eventually, BlackCat ransomware is deployed, locking down critical systems and exfiltrating sensitive customer data. The stolen data is used for extortion, threatening to release it unless a ransom is paid.\n",
    "\n",
    "## Attributes to Include:\n",
    "- Phone number used to call IT help desk\n",
    "- C2 server domain and IP\n",
    "- Legitimate software names and file hashes\n",
    "- Malware name and file hashes\n",
    "- Ransomware name and file hashes\n",
    "\n",
    "### Indicators:\n",
    "| Description                       | Category         | Type         | Value                                                            |\n",
    "|-----------------------------------|------------------|--------------|------------------------------------------------------------------|\n",
    "| Phishing Phone Number             | Person           | phone-number | +1-555-234-5678                                                  | \n",
    "| C2 Server Domain                  | Network activity | domain       | secure-update-check.com                                          |\n",
    "| C2 Server IP Address              | Network activity | ip-dst       | 198.51.100.42                                                    |\n",
    "| Legitimate Software File Name     | Network activity | filename     | AnyDesk.exe                                                      |\n",
    "| Legitimate Software Hash (SHA256) | Network activity | sha256       | 6a2b5c7f8d14e3b9f5e9e1246a89e26b5e91b7120b34187dcdfb6c78f4ef5c22 |\n",
    "| Malware File Name                 | Network activity | filename     | beacon.exe                                                       |\n",
    "| Malware Hash (SHA256)             | Network activity | sha256       | 3e8d1c12a0f9b7e5bcb94e2ad10e53a4a3d2e2bdb4e09f2e5a8b732fbb4c9c66 |\n",
    "| Ransomware File Name              | Network activity | filename     | bc_ransomware.exe                                                |\n",
    "| Ransomware Hash (SHA256)          | Network activity | sha256       | b1d9b9f5f8c69e7a8b1d24c3c5d6e4b9a3c9c5f7d6e8f8b9e7f7d4c8b1e9a3f6 |\n",
    "\n",
    "\n",
    "## Galaxy Clusters to Include:\n",
    "### 1. Attack Pattern\n",
    " - Valid Accounts (Cloud Accounts):\n",
    "   - Technique ID: T1078.004\n",
    "   - Description: The attackers used valid credentials obtained through social engineering of the IT help desk to gain initial access.\n",
    " - Phishing (Spearphishing Voice):\n",
    "   - Technique ID: T1566.004\n",
    "   - Description: The attackers used social engineering to deceive the IT help desk into resetting credentials for initial access.\n",
    " - Remote Access Software:\n",
    "   - Technique ID: T1219\n",
    "   - Description: Legitimate remote access software like AnyDesk was used by the attackers to maintain persistence within the compromised environment.\n",
    " - Application Layer Protocol (Web Protocols):\n",
    "   - Technique ID: T1071.001\n",
    "   - Description: The attackers communicated with the C2 server using a domain (secure-update-check.com) over HTTP/HTTPS.\n",
    " - Data Encrypted for Impact\n",
    "   - Technique ID: T1486\n",
    "   - Description: BlackCat ransomware encrypted files on the compromised systems to deny access to key data and demand a ransom.\n",
    " - Obfuscated Files or Information\n",
    "   - Technique ID: T1027\n",
    "   - Description: The attackers likely used obfuscated files (e.g., Cobalt Strike beacon) to avoid detection while moving laterally in the network.\n",
    "\n",
    "### 2. Malpedia:\n",
    " - Cobalt Strike\n",
    "   - Description: Attribution to the specific malware\n",
    " - BlackCat\n",
    "   - Description: Attribution to the specific ransomware\n",
    "\n",
    "### 3. RH-ISAC Threat Actors\n",
    "- SCATTERED SPIDER\n",
    "  - Description: Attribution to the specific threat actor group\n"
   ]
  },
  {
   "cell_type": "markdown",
   "id": "33d3d667-3370-4dc2-bd22-04a1a3b28f68",
   "metadata": {},
   "source": [
    "# Initialize environment\n",
    "This section initializes the playbook environment and loads the required Python libraries. The credentials for MISP (authkey) is loaded from the file `keys.py` in the directory **vault**. A PyMISP object is created to interact with MISP and the active MISP server is displayed. By printing out the server name you know that it's possible to connect to MISP. In case of a problem, PyMISP will indicate the error with `PyMISPError: Unable to connect to MISP`.\n",
    "\n",
    "The contents of the `keys.py` file should contain at least:\n",
    "```\n",
    "misp_url = \"<MISP URL>\"             # The URL to our MISP server\n",
    "misp_key = \"<MISP Authkey>\"         # The MISP authkey\n",
    "misp_verifycert = <True or False>   # Indicate if PyMISP should attempt to verify the certificate or ignore errors"
   ]
  },
  {
   "cell_type": "code",
   "execution_count": null,
   "id": "5446be07-660e-4434-b9cf-2dbcb758b77e",
   "metadata": {},
   "outputs": [],
   "source": [
    "from vault.keys import *\n",
    "\n",
    "from pymisp import PyMISP, MISPEvent, MISPObject\n",
    "\n",
    "\n",
    "if not misp_verifycert:\n",
    "    import urllib3\n",
    "    urllib3.disable_warnings(urllib3.exceptions.InsecureRequestWarning)\n",
    "print(\"The \\033[92mPython libraries\\033[90m are loaded and the \\033[92mcredentials\\033[90m are read from the keys file.\")\n",
    "\n",
    "# Create the PyMISP object\n",
    "misp = PyMISP(misp_url, misp_key, misp_verifycert)\n",
    "print(\"I will use the MISP server \\033[92m{}\\033[90m for this playbook.\\n\\n\".format(misp_url))\n"
   ]
  },
  {
   "cell_type": "markdown",
   "id": "784e9022-3da1-4a18-9d81-d86b45efd29f",
   "metadata": {},
   "source": [
    "# Initialize MISP Event\n",
    "This cell will initialize the MISP Event and attach the Event metadata."
   ]
  },
  {
   "cell_type": "code",
   "execution_count": null,
   "id": "f36a1b68-575c-437e-b3e5-84f5e4c2a548",
   "metadata": {},
   "outputs": [],
   "source": [
    "event = MISPEvent()\n",
    "event.info = <Title of MISP Event>\n",
    "\n",
    "## Threat Level\n",
    "# 1 - High means sophisticated APT malware or 0day attack\n",
    "# 2 - Medium means APT malware\n",
    "# 3 - Low means mass malware\n",
    "# 4 - Undefine\n",
    "\n",
    "event.threat_level_id = <ID>\n",
    "\n",
    "\n",
    "## Analysis\n",
    "# 0 - Initial means Event has just been created and is in an initial state\n",
    "# 1 - Ongoing means the analysis is still ongoing\n",
    "# 2 - Completed means the Event creator considers the analysis complete\n",
    "\n",
    "event.analysis = <ID>\n",
    "\n",
    "\n",
    "## Distribution \n",
    "# 0 - Your organization means only members of your organization on this server will be able to see this Event\n",
    "# 1 - This community only means organizations that are a part of this community server will be able to see this Event\n",
    "# 2 - Connected communities means organizations that are a part of this community server or a part of a connected (synced) community MISP server will be able to see the event\n",
    "\n",
    "event.distribution = <ID>"
   ]
  },
  {
   "cell_type": "markdown",
   "id": "e275b2d3-27bb-4da6-84bc-c4e808aa7b29",
   "metadata": {},
   "source": [
    "# Initialize Indicator Variables\n",
    "This cell will initialize the indicator variables we will use to add Attributes to the Event."
   ]
  },
  {
   "cell_type": "code",
   "execution_count": null,
   "id": "8f50bd54-615d-4cd6-bcbc-1ff47826a367",
   "metadata": {},
   "outputs": [],
   "source": [
    "# Copy the indicators from the table above into the appropriate indicator variables\n",
    "\n",
    "vishing_number = \"\"\n",
    "c2_domain = \"\"\n",
    "c2_ip = \"\"\n",
    "legit_filename = \"\"\n",
    "legit_sha256 = \"\"\n",
    "malware_filename = \"\"\n",
    "malware_sha256 = \"\"\n",
    "ransomware_filename = \"\"\n",
    "ransomware_sha256 = \"\""
   ]
  },
  {
   "cell_type": "markdown",
   "id": "e3c5ea0c-9a2e-413b-8283-844e3948d92c",
   "metadata": {},
   "source": [
    "# Add Attributes to the Event\n",
    "This cell will add attributes to the Event."
   ]
  },
  {
   "cell_type": "code",
   "execution_count": null,
   "id": "bf99ba5e-bec4-4aae-b782-e54610a22349",
   "metadata": {},
   "outputs": [],
   "source": [
    "event.add_attribute(type=\"phone-number\", value=vishing_number, category=\"Person\")\n",
    "\n",
    "# For added context, you can add a comment attribute that provides a brief description of the intel share\n",
    "description = \"\"\"\n",
    "An organization becomes the victim of a targeted attack by the \n",
    "SCATTERED SPIDER threat group. The incident begins with social \n",
    "engineering tactics used to compromise the IT help desk and obtain \n",
    "credentials for initial access. Over time, the attackers escalate \n",
    "their privileges, establish persistence, and move laterally within \n",
    "the network. Eventually, BlackCat ransomware is deployed, locking \n",
    "down critical systems and exfiltrating sensitive customer data. \n",
    "The stolen data is used for extortion, threatening to release it \n",
    "unless a ransom is paid.\n",
    "\"\"\"\n",
    "event.add_attribute(type=\"comment\", value=description)"
   ]
  },
  {
   "cell_type": "markdown",
   "id": "5f8132e9-60f1-41e8-93da-3781d96d6950",
   "metadata": {},
   "source": [
    "# Initialize and add Attributes to MISP Object\n",
    "This cell will initialize and add attributes to a MISP Object."
   ]
  },
  {
   "cell_type": "code",
   "execution_count": null,
   "id": "2cbf19a4-4b01-4159-b56c-550af276c64e",
   "metadata": {},
   "outputs": [],
   "source": [
    "legit_object = MISPObject(name=\"file\")\n",
    "legit_object.comment = \"Legitimate software observed using during intrusion\"\n",
    "\n",
    "legit_object.add_attribute(object_relation=\"filename\", simple_value=legit_filename)\n",
    "legit_object.add_attribute(object_relation=\"sha256\", simple_value=legit_sha256)\n",
    "\n",
    "\n",
    "malware_object = MISPObject(name=\"file\")\n",
    "malware_object.comment = \"Cobalt Strike beacon\"\n",
    "\n",
    "malware_object.add_attribute(object_relation=\"filename\", simple_value=malware_filename)\n",
    "malware_object.add_attribute(object_relation=\"sha256\", simple_value=malware_sha256)\n",
    "\n",
    "\n",
    "ransomware_object = MISPObject(name=\"file\")\n",
    "ransomware_object.comment = \"BlackCat sample\"\n",
    "\n",
    "ransomware_object.add_attribute(object_relation=\"filename\", simple_value=ransomware_filename)\n",
    "ransomware_object.add_attribute(object_relation=\"sha256\", simple_value=ransomware_sha256)\n",
    "\n",
    "\n",
    "domain_ip_object = MISPObject(name=\"domain-ip\")\n",
    "domain_ip_object.comment = \"Cobalt Strike C2\"\n",
    "\n",
    "domain_ip_object.add_attribute(object_relation=\"domain\", simple_value=c2_domain)\n",
    "domain_ip_object.add_attribute(object_relation=\"ip\", simple_value=c2_ip)\n",
    "\n",
    "\n",
    "# Add Objects to Event\n",
    "event.add_object(legit_object)\n",
    "event.add_object(malware_object)\n",
    "event.add_object(ransomware_object)\n",
    "event.add_object(domain_ip_object)"
   ]
  },
  {
   "cell_type": "markdown",
   "id": "6027fb3d-e145-4ecd-8376-d13b70f45afe",
   "metadata": {},
   "source": [
    "# Contextualize the Event with Galaxy Clusters\n",
    "This cell will add context to the Event by utilizing galaxy cluster tags."
   ]
  },
  {
   "cell_type": "code",
   "execution_count": null,
   "id": "372371ce-beba-49f7-86ae-78554b96e943",
   "metadata": {},
   "outputs": [],
   "source": [
    "# Attack Pattern\n",
    "event.add_tag('misp-galaxy:mitre-attack-pattern=\"Cloud Accounts - T1078.004\"')\n",
    "event.add_tag('misp-galaxy:mitre-attack-pattern=\"Spearphishing Voice - T1566.004\"')\n",
    "event.add_tag('misp-galaxy:mitre-attack-pattern=\"Remote Access Software - T1219\"')\n",
    "event.add_tag('misp-galaxy:mitre-attack-pattern=\"Web Protocols - T1071.001\"')\n",
    "event.add_tag('misp-galaxy:mitre-attack-pattern=\"Data Encrypted for Impact - T1486\"')\n",
    "event.add_tag('\tmisp-galaxy:mitre-attack-pattern=\"Obfuscated Files or Information - T1027\"')\n",
    "\n",
    "# Malpedia Galaxy\n",
    "event.add_tag('misp-galaxy:malpedia=\"BlackCat (Windows)\"')\n",
    "\n",
    "# RH-ISAC Threat Actors\n",
    "event.add_tag('misp-galaxy:rhisac-threat-actors=\"SCATTERED SPIDER\"')"
   ]
  },
  {
   "cell_type": "markdown",
   "id": "81a2f24a-5d86-4399-a813-87de80f4d857",
   "metadata": {},
   "source": [
    "# Publish and Share the Event\n",
    "This cell will publish and share the event to the MISP server."
   ]
  },
  {
   "cell_type": "code",
   "execution_count": null,
   "id": "54078e87-bc3c-41d9-ac23-1d4ce486dc0f",
   "metadata": {},
   "outputs": [],
   "source": [
    "event.publish()\n",
    "\n",
    "misp.add_event(event)"
   ]
  }
 ],
 "metadata": {
  "kernelspec": {
   "display_name": "Python 3 (ipykernel)",
   "language": "python",
   "name": "python3"
  },
  "language_info": {
   "codemirror_mode": {
    "name": "ipython",
    "version": 3
   },
   "file_extension": ".py",
   "mimetype": "text/x-python",
   "name": "python",
   "nbconvert_exporter": "python",
   "pygments_lexer": "ipython3",
   "version": "3.10.7"
  }
 },
 "nbformat": 4,
 "nbformat_minor": 5
}
